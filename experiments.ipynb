{
  "cells": [
    {
      "attachments": {},
      "cell_type": "markdown",
      "metadata": {},
      "source": [
        "Cases we could explore :\n",
        "1. Univariate gaussians with the same variance (most simple case) : the OT map is just an affine function, so $W_1$ is the distance between the means ;\n",
        "2. Univariate distributions : the formula $ W_1(\\mu, \\nu) = \\int_\\mathbb{R} |F_\\mu(t) - F_\\nu(t)| dt $ can give us an explicit value for $W_1$ in some cases (e.g. exponential);\n",
        "3. Gaussian distributions : we know the ground truth optimal map associated to $W_2$, but the WGAN approach only approximates $W_1$ as is ;\n",
        "4. Discrete probability measures: the exact optimal map can be computed (although it can take long with lots of samples) ;\n",
        "5. Possibly any other case where we can obtain a good approximation of $W_1$ with the Sinkhorn algorithm."
      ]
    },
    {
      "cell_type": "code",
      "execution_count": 92,
      "metadata": {
        "id": "YX8U_JZ206ge"
      },
      "outputs": [],
      "source": [
        "# Mathematical operations and statistical tools\n",
        "import numpy as np\n",
        "from scipy import stats, spatial\n",
        "\n",
        "# Optimal transport\n",
        "try:\n",
        "    import ot\n",
        "except ModuleNotFoundError:\n",
        "    !pip install POT\n",
        "    import ot\n",
        "\n",
        "# Deep learning library\n",
        "import torch\n",
        "\n",
        "# Plots\n",
        "import seaborn as sns\n",
        "import matplotlib.pyplot as plt\n",
        "\n",
        "# Typing\n",
        "from typing import Union, Callable, List, Optional\n",
        "\n",
        "import warnings\n",
        "warnings.filterwarnings('ignore')"
      ]
    },
    {
      "attachments": {},
      "cell_type": "markdown",
      "metadata": {
        "id": "A1fk2GAwH78H"
      },
      "source": [
        "We fix the numpy random seed and the device (the code can be run on CPU in a reasonable amount of time)."
      ]
    },
    {
      "cell_type": "code",
      "execution_count": 93,
      "metadata": {
        "colab": {
          "base_uri": "https://localhost:8080/"
        },
        "id": "zGVegbNvHrlm",
        "outputId": "914ca36d-a7d3-4656-af01-1d0471ed907e"
      },
      "outputs": [
        {
          "name": "stdout",
          "output_type": "stream",
          "text": [
            "cpu\n"
          ]
        }
      ],
      "source": [
        "np.random.seed(44)\n",
        "torch.manual_seed(44)\n",
        "if torch.cuda.is_available():\n",
        "    torch.set_default_tensor_type('torch.cuda.FloatTensor')\n",
        "    device = torch.device('cuda')\n",
        "else:\n",
        "    torch.set_default_tensor_type('torch.FloatTensor')\n",
        "    device = torch.device('cpu')\n",
        "print(device)"
      ]
    },
    {
      "cell_type": "markdown",
      "metadata": {
        "id": "3LpTuqUgHsid"
      },
      "source": [
        "The following class allows to build a dataset from two distributions. This will be used to train out models."
      ]
    },
    {
      "cell_type": "code",
      "execution_count": 94,
      "metadata": {
        "id": "MOIeww4W09tM"
      },
      "outputs": [],
      "source": [
        "class RandomDataset(torch.utils.data.Dataset):\n",
        "    \"\"\"Creates a dataset of `size` samples from two distributions.\"\"\"\n",
        "    def __init__(\n",
        "        self,\n",
        "        mu: Union[stats.rv_continuous, stats.rv_discrete],\n",
        "        nu: Union[stats.rv_continuous, stats.rv_discrete],\n",
        "        size: int = 2_000\n",
        "    ):\n",
        "        xs = mu.rvs(size=size)\n",
        "        ys = nu.rvs(size=size)\n",
        "        self.xs = torch.from_numpy(xs).reshape((size, -1))\n",
        "        self.ys = torch.from_numpy(ys).reshape((size, -1))\n",
        "\n",
        "    def __len__(self):\n",
        "        return self.xs.shape[0]\n",
        "      \n",
        "    def __getitem__(self, idx: int):\n",
        "        return dict(\n",
        "            origin = self.xs[idx,...],\n",
        "            target = self.ys[idx,...]\n",
        "        )"
      ]
    },
    {
      "cell_type": "markdown",
      "metadata": {
        "id": "oBwvOeF0Ab-S"
      },
      "source": [
        "# 1. Univariate gaussians with the same variance\n",
        "$$\n",
        "    \\mu = \\mathcal{N}_1(-2, 1) \\quad \\nu = \\mathcal{N}_1(2, 1)\n",
        "$$\n",
        "\n",
        "The optimal map is \n",
        "$$\n",
        "    T \\colon x \\to x+4\n",
        "$$\n",
        "\n",
        "And hence the cost of this map is\n",
        "$$\n",
        "    W_1(\\mu, \\nu) = \\int_\\mathbb{R} |x-T(x)|d\\mu(x) = \\int_\\mathbb{R} 4d\\mu(x) = 4\n",
        "$$"
      ]
    },
    {
      "cell_type": "code",
      "execution_count": 95,
      "metadata": {
        "colab": {
          "base_uri": "https://localhost:8080/",
          "height": 468
        },
        "id": "_LJJIBY564Jo",
        "outputId": "24c71ad3-cc39-4788-dd3a-2acfc5b281be"
      },
      "outputs": [
        {
          "data": {
            "image/png": "[encoded data removed]",
            "text/plain": [
              "<Figure size 1080x360 with 2 Axes>"
            ]
          },
          "metadata": {
            "needs_background": "light"
          },
          "output_type": "display_data"
        }
      ],
      "source": [
        "mu = stats.norm(-2, 1)\n",
        "nu = stats.norm(2, 1)\n",
        "    \n",
        "dataset = RandomDataset(mu, nu)\n",
        "\n",
        "fig, (left, right) = plt.subplots(1, 2, figsize=(15,5))\n",
        "ticks = np.linspace(-6, 6, 100)\n",
        "densite_mu = np.vectorize(mu.pdf)(ticks)\n",
        "densite_nu = np.vectorize(nu.pdf)(ticks)\n",
        "left.plot(ticks, densite_mu, color='blue', label='Density of μ')\n",
        "left.plot(ticks, densite_nu, color='red', label='Density of ν')\n",
        "right.hist(dataset.xs.detach().numpy(), bins=50, color='blue', alpha=.7, label='Histogram of samples from μ')\n",
        "right.hist(dataset.ys.detach().numpy(), bins=50, color='red', alpha=.7, label='Histogram of samples from ν')\n",
        "left.legend()\n",
        "right.legend()\n",
        "left.set_title(\"True densities\")\n",
        "right.set_title(\"Histograms of samples\");"
      ]
    },
    {
      "cell_type": "markdown",
      "metadata": {
        "id": "p6YjOTA2mYm6"
      },
      "source": [
        "## 1.1. Approximation with a neural network"
      ]
    },
    {
      "attachments": {},
      "cell_type": "markdown",
      "metadata": {},
      "source": [
        "To approximate $W_1$ with a neural network, we use its dual representation \n",
        "\n",
        "\\begin{align*}\n",
        "    W_1(\\mu,\\nu) & = \\sup_{f \\in \\text{Lip}_1(\\mathbb{R},\\mathbb{R})}  \\int_\\mathbb{R} f d(\\mu-\\nu) \\\\\n",
        "    & = \\sup_{f \\in \\text{Lip}_1(\\mathbb{R},\\mathbb{R})} \\mathbb{E}_{(x,y)\\sim\\mu\\otimes\\nu}[f(x)-f(y)]\n",
        "\\end{align*}\n",
        "\n",
        "To this end, we approximate :\n",
        "- the expectation with the empirical mean from a sample from the distribution $\\mu\\otimes\\nu$ ;\n",
        "- and the function $f$ by a feed-forward neural network (to enforce the Lipschitz constraint, we apply spectral normalization on the linear layers)."
      ]
    },
    {
      "cell_type": "code",
      "execution_count": 96,
      "metadata": {
        "id": "PTH2jeX2ELCD"
      },
      "outputs": [],
      "source": [
        "from torch.nn.utils.parametrizations import spectral_norm # To enforce the 1-Lipschitz constraint\n",
        "\n",
        "model = torch.nn.Sequential(\n",
        "    spectral_norm(torch.nn.Linear(1, 8)),\n",
        "    torch.nn.ReLU(),\n",
        "    spectral_norm(torch.nn.Linear(8, 8)),\n",
        "    torch.nn.ReLU(),\n",
        "    spectral_norm(torch.nn.Linear(8, 1)),\n",
        ")\n",
        "\n",
        "dataloader = torch.utils.data.DataLoader(dataset, batch_size=100, drop_last=True, shuffle=True)\n",
        "optimizer = torch.optim.RMSprop(model.parameters(), lr=0.001, maximize=True)"
      ]
    },
    {
      "cell_type": "code",
      "execution_count": 97,
      "metadata": {
        "id": "ScVVrHv4FWvi"
      },
      "outputs": [],
      "source": [
        "def train(\n",
        "    model: torch.nn.Module,\n",
        "    dataloader: torch.utils.data.DataLoader,\n",
        "    optimizer: torch.optim.Optimizer,\n",
        "    nb_epochs: int = 100,\n",
        "):\n",
        "    losses = []\n",
        "\n",
        "    for epoch in range(nb_epochs):\n",
        "        model.train()\n",
        "        train_loss = 0.0\n",
        "\n",
        "        for batch in dataloader:\n",
        "            optimizer.zero_grad()\n",
        "\n",
        "            x = batch['origin'].float()\n",
        "            y = batch['target'].float()\n",
        "            fx = model(x)\n",
        "            fy = model(y)\n",
        "\n",
        "            loss = torch.sum(fx - fy)\n",
        "            train_loss += loss.item()\n",
        "\n",
        "            loss.backward()\n",
        "            optimizer.step()\n",
        "\n",
        "        # Print loss ~10 times\n",
        "        if (epoch+1)%(nb_epochs//10) == 0: print(f'Epoch {epoch+1}/{nb_epochs}, training loss: {train_loss/len(dataloader)/100:.4g}')\n",
        "        losses.append(train_loss/len(dataloader)/100)\n",
        "    \n",
        "    return losses"
      ]
    },
    {
      "cell_type": "code",
      "execution_count": 98,
      "metadata": {
        "colab": {
          "base_uri": "https://localhost:8080/"
        },
        "id": "fhMokEKoWlwN",
        "outputId": "309f970e-a744-402f-8c5c-02f6d1f7d842"
      },
      "outputs": [
        {
          "name": "stdout",
          "output_type": "stream",
          "text": [
            "Epoch 10/100, training loss: 3.713\n",
            "Epoch 20/100, training loss: 3.888\n",
            "Epoch 30/100, training loss: 3.947\n",
            "Epoch 40/100, training loss: 3.977\n",
            "Epoch 50/100, training loss: 3.992\n",
            "Epoch 60/100, training loss: 4\n",
            "Epoch 70/100, training loss: 4.003\n",
            "Epoch 80/100, training loss: 4.005\n",
            "Epoch 90/100, training loss: 4.006\n",
            "Epoch 100/100, training loss: 4.006\n"
          ]
        }
      ],
      "source": [
        "losses = train(\n",
        "    model = model,\n",
        "    dataloader = dataloader,\n",
        "    optimizer = optimizer,\n",
        "    nb_epochs = 100\n",
        ")"
      ]
    },
    {
      "cell_type": "code",
      "execution_count": 99,
      "metadata": {
        "colab": {
          "base_uri": "https://localhost:8080/",
          "height": 388
        },
        "id": "aNx3RTtgWoA7",
        "outputId": "e1a28ec8-4f30-403e-d37f-bbb7816322b5"
      },
      "outputs": [
        {
          "data": {
            "image/png": "[encoded data removed]",
            "text/plain": [
              "<Figure size 288x288 with 1 Axes>"
            ]
          },
          "metadata": {
            "needs_background": "light"
          },
          "output_type": "display_data"
        }
      ],
      "source": [
        "def plot_progress(losses: List[float], title:Optional[str]=None):\n",
        "    fig, ax = plt.subplots(figsize=(4,4))\n",
        "    ax.plot(losses, color='blue')\n",
        "    ax.set_xlabel('Epochs')\n",
        "    ax.set_ylabel('Estimation')\n",
        "    if title is not None:\n",
        "        ax.set_title(title)\n",
        "\n",
        "plot_progress(losses)"
      ]
    },
    {
      "attachments": {},
      "cell_type": "markdown",
      "metadata": {
        "id": "62GvCUFJlmAK"
      },
      "source": [
        "The estimated Wasserstein distance is the opposite of the loss of the trained model, i.e. \n",
        "$$\n",
        "    \\hat W_1^N(\\hat\\mu_n, \\hat\\nu_n) \\approx 4.006\n",
        "$$\n",
        "\n",
        "In this case the relative error is 0.15\\%. Let us now compare it to a standard OT algorithm: the Sinkhorn algorithm."
      ]
    },
    {
      "cell_type": "markdown",
      "metadata": {
        "id": "NCYgr-3smedv"
      },
      "source": [
        "# 1.2. Approximation with the Sinkhorn algorithm "
      ]
    },
    {
      "attachments": {},
      "cell_type": "markdown",
      "metadata": {
        "id": "IrGtCMoyuafw"
      },
      "source": [
        "The Sinkhorn algorithm solves the following problem\n",
        "\n",
        "$$\n",
        "    P^*(\\gamma) = \\arg\\min_P \\langle P, C \\rangle + \\gamma E(P)\n",
        "$$\n",
        "\n",
        "where $C$ is the cost matrix between the samples defined by \n",
        "\n",
        "$$\n",
        "    C_{i,j} = |x_i - y_j |\n",
        "$$\n",
        "\n",
        "$\\gamma$ is a regularization hyperparameter and $E(P)$ is the entropy of $P$ :       \n",
        "\n",
        "$$\n",
        "    E(P) = \\sum_{i,j} P_{i,j}\\log(P_{i,j})\n",
        "$$"
      ]
    },
    {
      "cell_type": "code",
      "execution_count": 100,
      "metadata": {
        "colab": {
          "base_uri": "https://localhost:8080/",
          "height": 392
        },
        "id": "TEr7EnCIq-8j",
        "outputId": "1bd10469-7793-431d-dc1e-38deea699aa1"
      },
      "outputs": [
        {
          "data": {
            "image/png": "[encoded data removed]",
            "text/plain": [
              "<Figure size 288x288 with 1 Axes>"
            ]
          },
          "metadata": {
            "needs_background": "light"
          },
          "output_type": "display_data"
        }
      ],
      "source": [
        "def solve_sinkhorn(xs, ys, log_gamma_min=-2, log_gamma_max=3):\n",
        "    C = spatial.distance.cdist(\n",
        "        xs, ys,\n",
        "        metric = 'cityblock'\n",
        "    )\n",
        "\n",
        "    results = []\n",
        "    gammas = np.logspace(log_gamma_min, log_gamma_max, 20)\n",
        "    c_mean = np.mean(C)\n",
        "    for gamma in gammas:\n",
        "        P = ot.bregman.sinkhorn([], [], C, reg=gamma*c_mean)\n",
        "        results.append(np.sum(C*P))\n",
        "\n",
        "    fig, ax = plt.subplots(figsize=(4,4))\n",
        "    ax.plot(gammas*c_mean, results)\n",
        "    ax.set_xscale('log')\n",
        "    ax.set_xlabel('Penalization (γ)')\n",
        "    ax.set_ylabel('Cost of the associated map')\n",
        "\n",
        "    return results\n",
        "\n",
        "results = solve_sinkhorn(dataset.xs, dataset.ys)"
      ]
    },
    {
      "cell_type": "markdown",
      "metadata": {
        "id": "PO_O06Fmvxau"
      },
      "source": [
        "With an appropriate choice of $\\gamma = 10^{-2}$, we obtain \n",
        "\n",
        "$$\n",
        "    \\hat W_1^S(\\hat\\mu_n, \\hat\\nu_n) \\approx 4.007\n",
        "$$\n",
        "\n",
        "In this particular case, both methods approximate very well the true 1-Wasserstein distance."
      ]
    },
    {
      "attachments": {},
      "cell_type": "markdown",
      "metadata": {},
      "source": [
        "# 2. Exponential distributions\n",
        "\n",
        "$$\n",
        "    \\mu = \\mathcal{E}(\\kappa) \\quad \\nu = \\mathcal{E}(\\lambda)\n",
        "$$\n",
        "\n",
        "where $ \\kappa \\geq \\lambda$ are *scale* parameters. To compute the Wassertstein distance, we use the following representation :\n",
        "\n",
        "\\begin{align*}\n",
        "    W_1(\\mu, \\nu) & = \\int_\\mathbb{R} |F_\\mu(t) - F_\\nu(t)| dt \\\\ \n",
        "    & = \\int_\\mathbb{R_+} | 1 - e^{-t/\\kappa} - (1 - e^{-t/\\lambda}) | dt \\\\\n",
        "    & = \\int_\\mathbb{R_+} (e^{-t/\\kappa} - e^{-t/\\lambda}) dt \\\\\n",
        "    & = \\left[ \\lambda e^{-t/\\lambda} - \\kappa e^{-t/\\kappa}\\right]_{t=0}^\\infty \\\\\n",
        "    & = \\kappa - \\lambda\n",
        "\\end{align*}\n",
        "\n",
        "In the following experiment, we consider $\\kappa = 3$ and $\\lambda = 1$, so\n",
        "\n",
        "$$\n",
        "    W_1(\\mu,\\nu) = 2\n",
        "$$"
      ]
    },
    {
      "cell_type": "code",
      "execution_count": 101,
      "metadata": {},
      "outputs": [
        {
          "name": "stdout",
          "output_type": "stream",
          "text": [
            "Epoch 30/300, training loss: 2.063\n",
            "Epoch 60/300, training loss: 2.07\n",
            "Epoch 90/300, training loss: 2.07\n",
            "Epoch 120/300, training loss: 2.07\n",
            "Epoch 150/300, training loss: 2.07\n",
            "Epoch 180/300, training loss: 2.07\n",
            "Epoch 210/300, training loss: 2.07\n",
            "Epoch 240/300, training loss: 2.07\n",
            "Epoch 270/300, training loss: 2.07\n",
            "Epoch 300/300, training loss: 2.07\n"
          ]
        },
        {
          "data": {
            "image/png": "[encoded data removed]",
            "text/plain": [
              "<Figure size 288x288 with 1 Axes>"
            ]
          },
          "metadata": {
            "needs_background": "light"
          },
          "output_type": "display_data"
        }
      ],
      "source": [
        "mu = stats.expon(scale=3)\n",
        "nu = stats.expon(scale=1)\n",
        "dataset = RandomDataset(mu, nu)\n",
        "\n",
        "model = torch.nn.Sequential(\n",
        "    spectral_norm(torch.nn.Linear(1, 8)),\n",
        "    torch.nn.ReLU(),\n",
        "    spectral_norm(torch.nn.Linear(8, 8)),\n",
        "    torch.nn.ReLU(),\n",
        "    spectral_norm(torch.nn.Linear(8, 1)),\n",
        ")\n",
        "\n",
        "dataloader = torch.utils.data.DataLoader(dataset, batch_size=100, drop_last=True, shuffle=True)\n",
        "optimizer = torch.optim.RMSprop(model.parameters(), lr=0.001, maximize=True)\n",
        "\n",
        "losses = train(model, dataloader, optimizer, nb_epochs=300)\n",
        "plot_progress(losses)"
      ]
    },
    {
      "cell_type": "code",
      "execution_count": 103,
      "metadata": {},
      "outputs": [
        {
          "data": {
            "image/png": "[encoded data removed]",
            "text/plain": [
              "<Figure size 288x288 with 1 Axes>"
            ]
          },
          "metadata": {
            "needs_background": "light"
          },
          "output_type": "display_data"
        }
      ],
      "source": [
        "results = solve_sinkhorn(dataset.xs, dataset.ys)"
      ]
    },
    {
      "attachments": {},
      "cell_type": "markdown",
      "metadata": {},
      "source": [
        "We obtain\n",
        "$$\n",
        "    \\hat W_1^N(\\hat\\mu_n, \\hat\\nu_n) \\approx 2.07\n",
        "$$\n",
        "\n",
        "and \n",
        "\n",
        "$$\n",
        "    \\hat W_1^S(\\hat\\mu_n, \\hat\\nu_n) \\approx 2.07\n",
        "$$\n",
        "\n",
        "Again, both methods provide a similar approximation."
      ]
    },
    {
      "attachments": {},
      "cell_type": "markdown",
      "metadata": {},
      "source": [
        "# 3. Geometric distributions\n",
        "\n",
        "With $\\mu \\sim \\mathcal G\\left(\\frac12\\right)$ and $\\nu \\sim \\mathcal G\\left(\\frac14\\right)$, we have\n",
        "\n",
        "$$ W_1(\\mu,\\nu) = \\frac1q - \\frac1p = 4 - 2 = 2 $$"
      ]
    },
    {
      "cell_type": "code",
      "execution_count": 108,
      "metadata": {},
      "outputs": [
        {
          "name": "stdout",
          "output_type": "stream",
          "text": [
            "Epoch 10/100, training loss: 1.931\n",
            "Epoch 20/100, training loss: 2.052\n",
            "Epoch 30/100, training loss: 2.091\n",
            "Epoch 40/100, training loss: 2.095\n",
            "Epoch 50/100, training loss: 2.096\n",
            "Epoch 60/100, training loss: 2.096\n",
            "Epoch 70/100, training loss: 2.096\n",
            "Epoch 80/100, training loss: 2.096\n",
            "Epoch 90/100, training loss: 2.096\n",
            "Epoch 100/100, training loss: 2.096\n"
          ]
        },
        {
          "data": {
            "image/png": "[encoded data removed]",
            "text/plain": [
              "<Figure size 288x288 with 1 Axes>"
            ]
          },
          "metadata": {
            "needs_background": "light"
          },
          "output_type": "display_data"
        }
      ],
      "source": [
        "mu = stats.geom(1/2)\n",
        "nu = stats.geom(1/4)\n",
        "dataset = RandomDataset(mu, nu)\n",
        "\n",
        "model = torch.nn.Sequential(\n",
        "    spectral_norm(torch.nn.Linear(1, 8)),\n",
        "    torch.nn.ReLU(),\n",
        "    spectral_norm(torch.nn.Linear(8, 8)),\n",
        "    torch.nn.ReLU(),\n",
        "    spectral_norm(torch.nn.Linear(8, 1)),\n",
        ")\n",
        "\n",
        "dataloader = torch.utils.data.DataLoader(dataset, batch_size=100, drop_last=True, shuffle=True)\n",
        "optimizer = torch.optim.RMSprop(model.parameters(), lr=0.001, maximize=True)\n",
        "\n",
        "losses = train(model, dataloader, optimizer, nb_epochs=100)\n",
        "plot_progress(losses)"
      ]
    },
    {
      "cell_type": "code",
      "execution_count": 112,
      "metadata": {},
      "outputs": [],
      "source": [
        "results = solve_sinkhorn(dataset.xs, dataset.ys)"
      ]
    }
  ],
  "metadata": {
    "colab": {
      "provenance": []
    },
    "kernelspec": {
      "display_name": "Python 3",
      "name": "python3"
    },
    "language_info": {
      "codemirror_mode": {
        "name": "ipython",
        "version": 3
      },
      "file_extension": ".py",
      "mimetype": "text/x-python",
      "name": "python",
      "nbconvert_exporter": "python",
      "pygments_lexer": "ipython3",
      "version": "3.8.12"
    }
  },
  "nbformat": 4,
  "nbformat_minor": 0
}
